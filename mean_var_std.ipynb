{
 "cells": [
  {
   "cell_type": "markdown",
   "id": "0d1f3f6c-a7fa-4733-ac66-4b4c3ad34aa9",
   "metadata": {},
   "source": [
    "Mean, Variance and Standard Deviation Calculator"
   ]
  },
  {
   "cell_type": "markdown",
   "id": "8257d2f0-e0d6-4ba0-bbe2-7467831cee5b",
   "metadata": {},
   "source": [
    "Write code (mean_var_std.py) within Jupyter Notebook, and only copy into GitPod to trial (within main.py)"
   ]
  },
  {
   "cell_type": "markdown",
   "id": "5cb17789-1d87-43f2-b3fb-5a5e3bd35d9e",
   "metadata": {},
   "source": [
    "GitPod uses .py files so only use ## to denote comments, no markdown allowed."
   ]
  },
  {
   "cell_type": "code",
   "execution_count": null,
   "id": "899511b4-bd5a-4f1d-a6a9-16996ebcde98",
   "metadata": {},
   "outputs": [],
   "source": [
    "###   only copy and paste from below here   ###"
   ]
  },
  {
   "cell_type": "code",
   "execution_count": 54,
   "id": "eaf29a58-e9d0-4c96-b5ce-45b6d78ea842",
   "metadata": {},
   "outputs": [],
   "source": [
    "import numpy as np\n",
    "import pandas as pd\n",
    "import matplotlib.pyplot as plt\n",
    "\n",
    "\n",
    "\n",
    "###   only copy and paste from below here   ###\n",
    "\n",
    "\n",
    "\n",
    "        \n",
    "def calculate(list):    # main.py then says 'calculate([0,1,2,3,4,5,6,7,8])'\n",
    "                        # this selects function 'calculate'\n",
    "                        # and states 'list' = [0,1,2,...,8]\n",
    "    \n",
    "    # insert code to provide error if list < 9 numbers\n",
    "    if len(list) < 9:\n",
    "        raise ValueError(\"List must contain nine numbers.\")\n",
    "\n",
    "    # 1) split a 9 number series into 3x3 -> ([0,1,2],[3,4,5],[6,7,8])\n",
    "    matrix = np.array(list).reshape(3, 3)\n",
    "\n",
    "    calculations = {\n",
    "\n",
    "        # 2) spits out, for all columns, rows and then total series:\n",
    "        # a)mean, b)variance, c)sd, d)max, e)min, f)sum.\n",
    "\n",
    "        # .tolist() converts a numpy array into a python list\n",
    "        # which has cleaner presentation, rather than printing .array() everytime \n",
    "        'mean': [np.mean(matrix, axis=0).tolist(), np.mean(matrix, axis=1).tolist(), np.mean(list).tolist()],\n",
    "        'variance': [np.var(matrix, axis=0).tolist(), np.var(matrix, axis=1).tolist(), np.var(list).tolist()],\n",
    "        'standard deviation': [np.std(matrix, axis=0).tolist(), np.std(matrix, axis=1).tolist(), np.std(list).tolist()],\n",
    "        'max': [np.max(matrix, axis=0).tolist(), np.max(matrix, axis=1).tolist(), np.max(list).tolist()],\n",
    "        'min': [np.min(matrix, axis=0).tolist(), np.min(matrix, axis=1).tolist(), np.min(list).tolist()],\n",
    "        'sum': [np.sum(matrix, axis=0).tolist(), np.sum(matrix, axis=1).tolist(), np.sum(list).tolist()]\n",
    "    }\n",
    "    \n",
    "        \n",
    "\n",
    "    return calculations"
   ]
  },
  {
   "cell_type": "code",
   "execution_count": 56,
   "id": "f7c345b6-176e-4f7f-906a-c97aff478956",
   "metadata": {},
   "outputs": [
    {
     "name": "stdout",
     "output_type": "stream",
     "text": [
      "{'mean': [[3.0, 4.0, 5.0], [1.0, 4.0, 7.0], 4.0], 'variance': [[6.0, 6.0, 6.0], [0.6666666666666666, 0.6666666666666666, 0.6666666666666666], 6.666666666666667], 'standard deviation': [[2.449489742783178, 2.449489742783178, 2.449489742783178], [0.816496580927726, 0.816496580927726, 0.816496580927726], 2.581988897471611], 'max': [[6, 7, 8], [2, 5, 8], 8], 'min': [[0, 1, 2], [0, 3, 6], 0], 'sum': [[9, 12, 15], [3, 12, 21], 36]}\n"
     ]
    }
   ],
   "source": [
    "print(calculate([0,1,2,3,4,5,6,7,8]))"
   ]
  },
  {
   "cell_type": "code",
   "execution_count": null,
   "id": "223e9e49-5c1c-46a7-b176-1ea59d202ca4",
   "metadata": {},
   "outputs": [],
   "source": []
  }
 ],
 "metadata": {
  "kernelspec": {
   "display_name": "Python [conda env:base] *",
   "language": "python",
   "name": "conda-base-py"
  },
  "language_info": {
   "codemirror_mode": {
    "name": "ipython",
    "version": 3
   },
   "file_extension": ".py",
   "mimetype": "text/x-python",
   "name": "python",
   "nbconvert_exporter": "python",
   "pygments_lexer": "ipython3",
   "version": "3.12.7"
  }
 },
 "nbformat": 4,
 "nbformat_minor": 5
}
