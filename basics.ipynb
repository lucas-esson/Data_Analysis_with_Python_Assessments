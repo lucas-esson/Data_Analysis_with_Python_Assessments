{
 "cells": [
  {
   "cell_type": "code",
   "execution_count": 4,
   "id": "31d1e369-07a6-470d-b8c8-9c258154acda",
   "metadata": {},
   "outputs": [],
   "source": [
    "import numpy as np\n",
    "import pandas as pd\n",
    "import matplotlib.pyplot as plt\n"
   ]
  },
  {
   "cell_type": "markdown",
   "id": "49935304-c939-454e-9ec1-4528ca447bcf",
   "metadata": {},
   "source": [
    "Reshaping arrays via pre-defined list (c) or user defined np.array([0,1,...XYZ])"
   ]
  },
  {
   "cell_type": "code",
   "execution_count": 6,
   "id": "39a50e6e-a895-404a-ac6e-a4305d8766a3",
   "metadata": {},
   "outputs": [],
   "source": [
    "c = np.array([[0, 1, 2], [3, 4, 5]])"
   ]
  },
  {
   "cell_type": "code",
   "execution_count": 7,
   "id": "b937d242-6d07-4fba-92f4-16719dd7fb26",
   "metadata": {},
   "outputs": [
    {
     "name": "stdout",
     "output_type": "stream",
     "text": [
      "[[0 1 2]\n",
      " [3 4 5]]\n"
     ]
    }
   ],
   "source": [
    "d = c.reshape(2,3)\n",
    "print(d)"
   ]
  },
  {
   "cell_type": "code",
   "execution_count": 8,
   "id": "8af711b9-949a-4b8b-b5e0-77c0747a80b1",
   "metadata": {},
   "outputs": [
    {
     "data": {
      "text/plain": [
       "array([[0, 1],\n",
       "       [2, 3],\n",
       "       [4, 5]])"
      ]
     },
     "execution_count": 8,
     "metadata": {},
     "output_type": "execute_result"
    }
   ],
   "source": [
    "np.array([0,1,2,3,4,5]).reshape(3, 2)"
   ]
  },
  {
   "cell_type": "markdown",
   "id": "6a68886b-0fc6-4b6d-aaa8-c30e78637a64",
   "metadata": {},
   "source": [
    "9 number array into 3x3 matrix"
   ]
  },
  {
   "cell_type": "code",
   "execution_count": 26,
   "id": "80170763-02d3-493d-953f-93e6296d1561",
   "metadata": {},
   "outputs": [
    {
     "name": "stdout",
     "output_type": "stream",
     "text": [
      "[[ 0.  1. nan]\n",
      " [ 3.  4. nan]\n",
      " [ 6.  7.  8.]]\n"
     ]
    }
   ],
   "source": [
    "matrix = np.array([0,1,np.nan,3,4,np.nan,6,7,8]).reshape(3, 3)\n",
    "print(matrix)"
   ]
  },
  {
   "cell_type": "code",
   "execution_count": 28,
   "id": "f5d17a5d-9972-4774-a5c6-03d5e0074b15",
   "metadata": {},
   "outputs": [
    {
     "data": {
      "text/plain": [
       "array([[False, False,  True],\n",
       "       [False, False,  True],\n",
       "       [False, False, False]])"
      ]
     },
     "execution_count": 28,
     "metadata": {},
     "output_type": "execute_result"
    }
   ],
   "source": [
    "np.isnan(matrix)"
   ]
  },
  {
   "cell_type": "code",
   "execution_count": null,
   "id": "f3c0c949-c180-47c3-8046-823fe5dce33b",
   "metadata": {},
   "outputs": [],
   "source": []
  }
 ],
 "metadata": {
  "kernelspec": {
   "display_name": "Python [conda env:base] *",
   "language": "python",
   "name": "conda-base-py"
  },
  "language_info": {
   "codemirror_mode": {
    "name": "ipython",
    "version": 3
   },
   "file_extension": ".py",
   "mimetype": "text/x-python",
   "name": "python",
   "nbconvert_exporter": "python",
   "pygments_lexer": "ipython3",
   "version": "3.12.7"
  }
 },
 "nbformat": 4,
 "nbformat_minor": 5
}
